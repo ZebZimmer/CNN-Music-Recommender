{
 "cells": [
  {
   "cell_type": "code",
   "execution_count": null,
   "metadata": {},
   "outputs": [],
   "source": [
    "from dataset_master import DatasetMaster\n",
    "\n",
    "a = DatasetMaster()\n",
    "a.master_df.head()"
   ]
  },
  {
   "cell_type": "code",
   "execution_count": null,
   "metadata": {},
   "outputs": [],
   "source": [
    "list_of_songs = a.get_WMF_compatible_tracks()"
   ]
  },
  {
   "cell_type": "code",
   "execution_count": null,
   "metadata": {},
   "outputs": [],
   "source": [
    "len(list_of_songs)"
   ]
  },
  {
   "cell_type": "code",
   "execution_count": null,
   "metadata": {},
   "outputs": [],
   "source": [
    "import os\n",
    "from tqdm import tqdm\n",
    "\n",
    "from utilities.constants import (\n",
    "    DEFAULT_DATA_LOCATION,\n",
    "    SMALL_DATA_LOCATION,\n",
    "    TINY_DATA_LOCATION,\n",
    "    TRIPLET_DATA_LOCATION\n",
    ")\n",
    "\n",
    "\n",
    "def extract_lines(input_file, output_file, num_lines=1000000):\n",
    "    count = 0\n",
    "    with open(input_file, 'r', encoding='utf-8') as infile:\n",
    "        with open(output_file, 'w', encoding='utf-8') as outfile:\n",
    "            for line in tqdm(infile, total=48000000):\n",
    "                temp = line.split(\"\\t\")\n",
    "                if count >= num_lines:\n",
    "                    print(\"HIT THE CAP\")\n",
    "                    break\n",
    "                if temp[1] in list_of_songs:\n",
    "                    outfile.write(line)\n",
    "                    count += 1\n",
    "    print(count)\n",
    "\n",
    "if not os.path.exists(SMALL_DATA_LOCATION):\n",
    "    extract_lines(DEFAULT_DATA_LOCATION, \"../Datasets/train_triplets/train_triplets_small.txt\")\n",
    "    \n",
    "if not os.path.exists(TINY_DATA_LOCATION):\n",
    "    extract_lines(DEFAULT_DATA_LOCATION, \"../Datasets/train_triplets/train_triplets_tiny.txt\", num_lines=10000)\n",
    "    \n",
    "\n",
    "extract_lines(DEFAULT_DATA_LOCATION, \"../Datasets/train_triplets/train_triplets_TEST.txt\", num_lines=1000000)"
   ]
  },
  {
   "cell_type": "code",
   "execution_count": 1,
   "metadata": {},
   "outputs": [
    {
     "name": "stderr",
     "output_type": "stream",
     "text": [
      "2024-04-28 00:12:22.965988: I tensorflow/core/platform/cpu_feature_guard.cc:210] This TensorFlow binary is optimized to use available CPU instructions in performance-critical operations.\n",
      "To enable the following instructions: AVX2 FMA, in other operations, rebuild TensorFlow with the appropriate compiler flags.\n",
      "2024-04-28 00:12:24.653515: W tensorflow/compiler/tf2tensorrt/utils/py_utils.cc:38] TF-TRT Warning: Could not find TensorRT\n",
      "/home/zeb/Documents/School/CSCI5123/CNN-Music-Recommender/CNNenv/lib/python3.10/site-packages/tqdm/auto.py:21: TqdmWarning: IProgress not found. Please update jupyter and ipywidgets. See https://ipywidgets.readthedocs.io/en/stable/user_install.html\n",
      "  from .autonotebook import tqdm as notebook_tqdm\n"
     ]
    },
    {
     "name": "stdout",
     "output_type": "stream",
     "text": [
      "Num GPUs Available:  1\n"
     ]
    }
   ],
   "source": [
    "import tensorflow as tf\n",
    "\n",
    "from wmf_script import WMF_Model\n",
    "from utilities.constants import (\n",
    "    DEFAULT_DATA_LOCATION,\n",
    "    SMALL_DATA_LOCATION,\n",
    "    TINY_DATA_LOCATION,\n",
    "    TRIPLET_DATA_LOCATION\n",
    ")\n",
    "\n",
    "print(\"Num GPUs Available: \", len(tf.config.list_physical_devices('GPU')))\n",
    "gpu_devices = tf.config.experimental.list_physical_devices('GPU')\n",
    "for device in gpu_devices:\n",
    "    tf.config.experimental.set_memory_growth(device, True)"
   ]
  },
  {
   "cell_type": "code",
   "execution_count": 2,
   "metadata": {},
   "outputs": [
    {
     "name": "stdout",
     "output_type": "stream",
     "text": [
      "                                     userID              itemID  rating\n",
      "0  b80344d063b5ccb3212f76538f3d9e43d87dca9e  SOWEZSI12A81C21CE6       1\n",
      "1  4bd88bfb25263a75bbdd467e74018f4ae570e5df  SODCXXY12AB0187452       2\n",
      "2  4bd88bfb25263a75bbdd467e74018f4ae570e5df  SOWPAXV12A67ADA046      18\n",
      "3  b64cdd1a0bd907e5e00b39e345194768e330d652  SOLXDDC12A6701FBFD       1\n",
      "4  b64cdd1a0bd907e5e00b39e345194768e330d652  SONJBQX12A6D4F8382       4\n",
      "Done preparing dataset, now training\n"
     ]
    },
    {
     "name": "stderr",
     "output_type": "stream",
     "text": [
      "2024-04-28 00:12:33.863319: I tensorflow/core/common_runtime/gpu/gpu_device.cc:1928] Created device /job:localhost/replica:0/task:0/device:GPU:0 with 4052 MB memory:  -> device: 0, name: NVIDIA GeForce RTX 3060 Laptop GPU, pci bus id: 0000:01:00.0, compute capability: 8.6\n",
      "2024-04-28 00:12:34.056623: I tensorflow/compiler/mlir/mlir_graph_optimization_pass.cc:388] MLIR V1 optimization pass is not enabled\n",
      "100%|██████████| 100/100 [30:56<00:00, 18.56s/it, loss=3.95e+3]\n"
     ]
    },
    {
     "name": "stdout",
     "output_type": "stream",
     "text": [
      "Learning completed!\n"
     ]
    }
   ],
   "source": [
    "WMF = WMF_Model()\n",
    "\n",
    "WMF.train_cornac(TRIPLET_DATA_LOCATION)"
   ]
  },
  {
   "cell_type": "code",
   "execution_count": null,
   "metadata": {},
   "outputs": [],
   "source": [
    "WMF.get_item_vectors().shape\n",
    "WMF.get_user_vectors().shape"
   ]
  },
  {
   "cell_type": "code",
   "execution_count": 4,
   "metadata": {},
   "outputs": [
    {
     "name": "stdout",
     "output_type": "stream",
     "text": [
      "WMF model is saved to Saved_Models/WMF/2024-04-28_00-44-40-206619.pkl\n"
     ]
    }
   ],
   "source": [
    "save_location = WMF.save('Saved_Models', True)"
   ]
  },
  {
   "cell_type": "code",
   "execution_count": 5,
   "metadata": {},
   "outputs": [
    {
     "name": "stdout",
     "output_type": "stream",
     "text": [
      "[ 0.54169226 -0.5633548  -0.5601653   0.5363168   0.5463628  -0.56084245\n",
      "  0.5702676   0.57080114  0.54573697  0.5703863  -0.55793273  0.53697664\n",
      "  0.5299573  -0.57026404  0.56487894 -0.55957294  0.5499256  -0.55188864\n",
      " -0.5373938  -0.53656423 -0.49192816  0.5672112   0.5314286  -0.54991394\n",
      "  0.5456841  -0.5412799   0.5564396   0.43486574  0.3703698   0.57875043\n",
      "  0.55288893  0.56700474  0.5400156  -0.5449578  -0.5588435  -0.5404437\n",
      "  0.5419032   0.5479695  -0.5372913   0.57613885 -0.53922665 -0.5656087\n",
      " -0.5563892  -0.5777423   0.53702074  0.54073995  0.5375891   0.54508775\n",
      " -0.5410191   0.5650353 ]\n"
     ]
    }
   ],
   "source": [
    "single_item = WMF.get_item_vectors()[0]\n",
    "print(single_item)\n"
   ]
  }
 ],
 "metadata": {
  "kernelspec": {
   "display_name": "CNNenv",
   "language": "python",
   "name": "python3"
  },
  "language_info": {
   "codemirror_mode": {
    "name": "ipython",
    "version": 3
   },
   "file_extension": ".py",
   "mimetype": "text/x-python",
   "name": "python",
   "nbconvert_exporter": "python",
   "pygments_lexer": "ipython3",
   "version": "3.10.12"
  }
 },
 "nbformat": 4,
 "nbformat_minor": 2
}
