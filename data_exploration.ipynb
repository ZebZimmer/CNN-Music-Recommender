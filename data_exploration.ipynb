{
 "cells": [
  {
   "cell_type": "code",
   "execution_count": 1,
   "metadata": {},
   "outputs": [],
   "source": [
    "import os\n",
    "\n",
    "from utilities.constants import (\n",
    "    DEFAULT_DATA_LOCATION,\n",
    "    SMALL_DATA_LOCATION,\n",
    "    TINY_DATA_LOCATION,\n",
    "    TRIPLET_DATA_LOCATION\n",
    ")\n",
    "\n",
    "def extract_lines(input_file, output_file, num_lines=1000000):\n",
    "    with open(input_file, 'r', encoding='utf-8') as infile:\n",
    "        with open(output_file, 'w', encoding='utf-8') as outfile:\n",
    "            for i, line in enumerate(infile):\n",
    "                if i >= num_lines:\n",
    "                    break\n",
    "                outfile.write(line)\n",
    "\n",
    "if not os.path.exists(SMALL_DATA_LOCATION):\n",
    "    extract_lines(DEFAULT_DATA_LOCATION, \"../Datasets/train_triplets/train_triplets_small.txt\")\n",
    "    \n",
    "if not os.path.exists(TINY_DATA_LOCATION):\n",
    "    extract_lines(DEFAULT_DATA_LOCATION, \"../Datasets/train_triplets/train_triplets_tiny.txt\", num_lines=10000)"
   ]
  },
  {
   "cell_type": "code",
   "execution_count": 2,
   "metadata": {},
   "outputs": [
    {
     "name": "stderr",
     "output_type": "stream",
     "text": [
      "2024-04-27 18:19:09.720998: I tensorflow/core/platform/cpu_feature_guard.cc:210] This TensorFlow binary is optimized to use available CPU instructions in performance-critical operations.\n",
      "To enable the following instructions: AVX2 FMA, in other operations, rebuild TensorFlow with the appropriate compiler flags.\n",
      "2024-04-27 18:19:10.920923: W tensorflow/compiler/tf2tensorrt/utils/py_utils.cc:38] TF-TRT Warning: Could not find TensorRT\n",
      "/home/zeb/Documents/School/CSCI5123/CNN-Music-Recommender/CNNenv/lib/python3.10/site-packages/tqdm/auto.py:21: TqdmWarning: IProgress not found. Please update jupyter and ipywidgets. See https://ipywidgets.readthedocs.io/en/stable/user_install.html\n",
      "  from .autonotebook import tqdm as notebook_tqdm\n"
     ]
    },
    {
     "name": "stdout",
     "output_type": "stream",
     "text": [
      "Num GPUs Available:  1\n"
     ]
    }
   ],
   "source": [
    "import tensorflow as tf\n",
    "\n",
    "from wmf_script import WMF_Model\n",
    "\n",
    "print(\"Num GPUs Available: \", len(tf.config.list_physical_devices('GPU')))\n",
    "gpu_devices = tf.config.experimental.list_physical_devices('GPU')\n",
    "for device in gpu_devices:\n",
    "    tf.config.experimental.set_memory_growth(device, True)"
   ]
  },
  {
   "cell_type": "code",
   "execution_count": 3,
   "metadata": {},
   "outputs": [
    {
     "name": "stdout",
     "output_type": "stream",
     "text": [
      "                                     userID              itemID  rating\n",
      "0  b80344d063b5ccb3212f76538f3d9e43d87dca9e  SOAKIMP12A8C130995       1\n",
      "1  b80344d063b5ccb3212f76538f3d9e43d87dca9e  SOAPDEY12A81C210A9       1\n",
      "2  b80344d063b5ccb3212f76538f3d9e43d87dca9e  SOBBMDR12A8C13253B       2\n",
      "3  b80344d063b5ccb3212f76538f3d9e43d87dca9e  SOBFNSP12AF72A0E22       1\n",
      "4  b80344d063b5ccb3212f76538f3d9e43d87dca9e  SOBFOVM12A58A7D494       1\n",
      "Done preparing dataset, now training\n"
     ]
    },
    {
     "name": "stderr",
     "output_type": "stream",
     "text": [
      "2024-04-27 18:19:14.026694: I tensorflow/core/common_runtime/gpu/gpu_device.cc:1928] Created device /job:localhost/replica:0/task:0/device:GPU:0 with 3987 MB memory:  -> device: 0, name: NVIDIA GeForce RTX 3060 Laptop GPU, pci bus id: 0000:01:00.0, compute capability: 8.6\n",
      "2024-04-27 18:19:14.043865: I tensorflow/compiler/mlir/mlir_graph_optimization_pass.cc:388] MLIR V1 optimization pass is not enabled\n",
      "100%|██████████| 100/100 [00:12<00:00,  7.72it/s, loss=3.57]\n"
     ]
    },
    {
     "name": "stdout",
     "output_type": "stream",
     "text": [
      "Learning completed!\n"
     ]
    }
   ],
   "source": [
    "WMF = WMF_Model()\n",
    "\n",
    "WMF.train_cornac(TRIPLET_DATA_LOCATION)"
   ]
  },
  {
   "cell_type": "code",
   "execution_count": 4,
   "metadata": {},
   "outputs": [
    {
     "data": {
      "text/plain": [
       "(173, 50)"
      ]
     },
     "execution_count": 4,
     "metadata": {},
     "output_type": "execute_result"
    }
   ],
   "source": [
    "WMF.get_item_vectors().shape\n",
    "WMF.get_user_vectors().shape"
   ]
  },
  {
   "cell_type": "code",
   "execution_count": 5,
   "metadata": {},
   "outputs": [
    {
     "name": "stdout",
     "output_type": "stream",
     "text": [
      "WMF model is saved to Saved_Models/WMF/2024-04-27_18-19-27-166234.pkl\n"
     ]
    }
   ],
   "source": [
    "save_location = WMF.save('Saved_Models', True)"
   ]
  },
  {
   "cell_type": "code",
   "execution_count": 6,
   "metadata": {},
   "outputs": [
    {
     "name": "stdout",
     "output_type": "stream",
     "text": [
      "[ 0.02829855 -0.02021257 -0.03253564 -0.03639255  0.02455364 -0.01778966\n",
      "  0.08465513  0.01192005 -0.02690702 -0.07297824 -0.01920594 -0.0069708\n",
      "  0.03880925 -0.03828655 -0.0473689   0.05293758  0.03048474  0.05198129\n",
      "  0.04199427 -0.04289312 -0.04946489  0.02889461  0.04044225  0.01586007\n",
      "  0.04148296 -0.03259045 -0.00822871  0.00423916  0.03597718  0.02305062\n",
      "  0.00217858  0.08287711 -0.04058557  0.0403629  -0.0349461  -0.0015322\n",
      " -0.00591703 -0.04305467  0.00653969  0.02628193 -0.03576    -0.05485277\n",
      "  0.05437094 -0.08540267  0.04046975 -0.03096681 -0.05162769 -0.01678304\n",
      " -0.02591483  0.03954686]\n"
     ]
    }
   ],
   "source": [
    "single_item = WMF.get_item_vectors()[0]\n",
    "print(single_item)\n"
   ]
  }
 ],
 "metadata": {
  "kernelspec": {
   "display_name": "CNNenv",
   "language": "python",
   "name": "python3"
  },
  "language_info": {
   "codemirror_mode": {
    "name": "ipython",
    "version": 3
   },
   "file_extension": ".py",
   "mimetype": "text/x-python",
   "name": "python",
   "nbconvert_exporter": "python",
   "pygments_lexer": "ipython3",
   "version": "3.10.12"
  }
 },
 "nbformat": 4,
 "nbformat_minor": 2
}
