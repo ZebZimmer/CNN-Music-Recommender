{
 "cells": [
  {
   "cell_type": "code",
   "execution_count": 1,
   "metadata": {},
   "outputs": [],
   "source": [
    "import tensorflow as tf\n",
    "\n",
    "from wmf_script import WMF_Model"
   ]
  },
  {
   "cell_type": "code",
   "execution_count": 2,
   "metadata": {},
   "outputs": [
    {
     "name": "stdout",
     "output_type": "stream",
     "text": [
      "                                     userID              itemID  rating\n",
      "0  17fa52bdb257fed6001b089a2c4f74b8b9ea986e  SOFTFOE12A6D4F9125       1\n",
      "1  17fa52bdb257fed6001b089a2c4f74b8b9ea986e  SOGDMQR12AF72A08E7       1\n",
      "2  17fa52bdb257fed6001b089a2c4f74b8b9ea986e  SOGKRHN12A8C1369A1       1\n",
      "3  17fa52bdb257fed6001b089a2c4f74b8b9ea986e  SOGVJXN12AB0185AA7       1\n",
      "4  17fa52bdb257fed6001b089a2c4f74b8b9ea986e  SOGWJEY12AC9618862       2\n",
      "Done preparing dataset, now training\n"
     ]
    },
    {
     "data": {
      "application/vnd.jupyter.widget-view+json": {
       "model_id": "ecc5a858b5634baf95b4dc8919906ebd",
       "version_major": 2,
       "version_minor": 0
      },
      "text/plain": [
       "  0%|          | 0/100 [00:00<?, ?it/s]"
      ]
     },
     "metadata": {},
     "output_type": "display_data"
    },
    {
     "name": "stdout",
     "output_type": "stream",
     "text": [
      "Learning completed!\n"
     ]
    }
   ],
   "source": [
    "WMF = WMF_Model()\n",
    "\n",
    "WMF.train_cornac()"
   ]
  },
  {
   "cell_type": "code",
   "execution_count": 3,
   "metadata": {},
   "outputs": [
    {
     "data": {
      "text/plain": [
       "(55, 50)"
      ]
     },
     "execution_count": 3,
     "metadata": {},
     "output_type": "execute_result"
    }
   ],
   "source": [
    "WMF.get_item_vectors().shape\n",
    "WMF.get_user_vectors().shape"
   ]
  },
  {
   "cell_type": "code",
   "execution_count": 4,
   "metadata": {},
   "outputs": [
    {
     "name": "stdout",
     "output_type": "stream",
     "text": [
      "WMF model is saved to WMF_model\\WMF\\2024-04-26_19-23-58-442719.pkl\n"
     ]
    }
   ],
   "source": [
    "save_location = WMF.save('WMF_model', True)"
   ]
  },
  {
   "cell_type": "code",
   "execution_count": 6,
   "metadata": {},
   "outputs": [
    {
     "name": "stdout",
     "output_type": "stream",
     "text": [
      "[-0.00079578 -0.00362063 -0.03357622 -0.01405401  0.00308338  0.04975067\n",
      " -0.0226275  -0.03976106 -0.00821807  0.02054455 -0.02519205 -0.02199955\n",
      " -0.01806879 -0.01322725  0.0339878  -0.00081678  0.01432443  0.03448431\n",
      "  0.03902732 -0.02432859 -0.0549689  -0.00278263 -0.00732828 -0.01310144\n",
      "  0.06101713  0.01173092  0.00686708 -0.01367553 -0.0188846  -0.02701658\n",
      " -0.03642955  0.00145192  0.0475033   0.0106095   0.03651405 -0.00786291\n",
      " -0.02737628  0.00423441 -0.04383512 -0.00597684 -0.04402513 -0.00043099\n",
      " -0.0167767   0.00317784  0.02564604 -0.00140259 -0.04437083 -0.00435507\n",
      "  0.02876846  0.04238537]\n"
     ]
    }
   ],
   "source": [
    "single_item = WMF.get_item_vectors()[0]\n",
    "print(single_item)"
   ]
  }
 ],
 "metadata": {
  "kernelspec": {
   "display_name": "CNNenv",
   "language": "python",
   "name": "python3"
  },
  "language_info": {
   "codemirror_mode": {
    "name": "ipython",
    "version": 3
   },
   "file_extension": ".py",
   "mimetype": "text/x-python",
   "name": "python",
   "nbconvert_exporter": "python",
   "pygments_lexer": "ipython3",
   "version": "3.10.5"
  }
 },
 "nbformat": 4,
 "nbformat_minor": 2
}
