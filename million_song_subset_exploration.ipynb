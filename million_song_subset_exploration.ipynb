{
 "cells": [
  {
   "cell_type": "markdown",
   "metadata": {},
   "source": [
    "### Before Starting\n",
    "Go here and download the \"MILLION SONG SUBSET\" (the 1.8GB one). Extract it to `millionsongsubset/` in this directory.\n",
    "\n",
    "http://millionsongdataset.com/pages/getting-dataset/#subset"
   ]
  },
  {
   "cell_type": "code",
   "execution_count": null,
   "metadata": {},
   "outputs": [],
   "source": [
    "import os\n",
    "import numpy as np\n",
    "import pandas as pd\n",
    "import hd5f_getters as GETTERS\n",
    "\n",
    "from utilities.constants import(\n",
    "    DEFAULT_DATA_LOCATION,\n",
    "    SMALL_DATA_LOCATION,\n",
    "    TINY_DATA_LOCATION,\n",
    "    MILLION_SONG_CSV_LOCATION,\n",
    ")\n",
    "\n",
    "\n",
    "def test_one_file(filepath: str) -> None:\n",
    "    \"\"\"\n",
    "    Playing around to see what we can pull out of one file.\n",
    "    Example usage: \n",
    "        >>> filepath = './millionsongsubset/A/A/A/TRAAAAW128F429D538.h5'\n",
    "        >>> test_one_file(filepath)\n",
    "    \"\"\"\n",
    "    h5 = GETTERS.open_h5_file_read(filepath)\n",
    "    num_songs = GETTERS.get_num_songs(h5)\n",
    "    track_id = GETTERS.get_track_id(h5)\n",
    "    song_id = GETTERS.get_song_id(h5)\n",
    "    track_title = GETTERS.get_title(h5)\n",
    "    play_count = GETTERS.get_song_hotttnesss(h5)\n",
    "    artist_name = GETTERS.get_artist_name(h5)\n",
    "\n",
    "    print(f'BEFORE decode(): {track_id = }, {track_title = }, {artist_name = }, {play_count = }, {song_id = }')\n",
    "    print(f'AFTER decode(): {track_id.decode() = }, {track_title.decode() = }, {artist_name.decode() = }, {play_count = }, {song_id.decode() = }')\n",
    "    print(f'{num_songs = } for {filepath = }')\n",
    "\n",
    "def process_files(base_dir: str) -> pd.DataFrame:\n",
    "    \"\"\"\n",
    "    Process all the millionsongsubset files and return a dataframe\n",
    "        with columns: ['track_id', 'track_title', 'artist_name', 'play_count'].\n",
    "    This will take a few minutes.\n",
    "    \"\"\"\n",
    "\n",
    "    play_data = []\n",
    "    print('Processing files...')\n",
    "    for root, dirs, files in os.walk(base_dir):\n",
    "        # Loop over all .h5 files\n",
    "        h5_files = [f for f in files if f.endswith('.h5')]\n",
    "        for file in h5_files:\n",
    "            file_path = os.path.join(root, file)\n",
    "            h5 = GETTERS.open_h5_file_read(file_path)\n",
    "            try:\n",
    "                # loop over all the songs in this one h5 file\n",
    "                num_songs = GETTERS.get_num_songs(h5)\n",
    "                for song_idx in range(num_songs):\n",
    "                    # get relevant information from the dataset\n",
    "                    # track_id = GETTERS.get_track_id(h5, songidx=song_idx).decode()\n",
    "                    song_id = GETTERS.get_song_id(h5).decode()\n",
    "                    track_title = GETTERS.get_title(h5, songidx=song_idx).decode()\n",
    "                    artist_name = GETTERS.get_artist_name(h5, songidx=song_idx).decode()\n",
    "\n",
    "                    # using song_hotttnesss as a proxy for play counts\n",
    "                    play_count = GETTERS.get_song_hotttnesss(h5, songidx=song_idx)\n",
    "                    if np.isnan(play_count):\n",
    "                        play_count = 0\n",
    "                play_data.append([song_id, track_title, artist_name, play_count])\n",
    "\n",
    "            finally:\n",
    "                h5.close()\n",
    "\n",
    "    return pd.DataFrame(play_data, columns=['track_id', 'track_title', 'artist_name', 'play_count'])\n",
    "\n",
    "# playing around with one file to see what we can pull out\n",
    "# filepath = './millionsongsubset/A/A/A/TRAAAAW128F429D538.h5'\n",
    "# filepath = './millionsongsubset/A/A/A/TRAAAVO128F93133D4.h5'\n",
    "# test_one_file(filepath)\n",
    "\n",
    "# process the files then check out the dataframe\n",
    "csv_path = MILLION_SONG_CSV_LOCATION\n",
    "if os.path.exists(csv_path):\n",
    "    print(f'Loading data from {csv_path}')\n",
    "    million_song_df = pd.read_csv(csv_path)\n",
    "else:\n",
    "    # specify the path to the dataset\n",
    "    base_dir = \"./millionsongsubset\"\n",
    "    million_song_df = process_files(base_dir)\n",
    "    million_song_df.to_csv(csv_path, index=False)\n",
    "\n",
    "million_song_df.sort_values(\"play_count\", inplace=True, ascending=False)\n",
    "million_song_df\n"
   ]
  },
  {
   "cell_type": "code",
   "execution_count": null,
   "metadata": {},
   "outputs": [],
   "source": [
    "# read in the data triples\n",
    "# be sure to download \"train_triplets.txt\"(the 500MB) file from http://millionsongdataset.com/tasteprofile/\n",
    "df_train_triplets = pd.read_csv(TINY_DATA_LOCATION, sep='\\t', header=None, names=['userID', 'itemID', 'rating'])"
   ]
  },
  {
   "cell_type": "code",
   "execution_count": null,
   "metadata": {},
   "outputs": [],
   "source": [
    "# we're going to find all the song id's in million_song_df that are also in the triplets\n",
    "unique_triplet_item_ids = set(df_train_triplets[\"itemID\"])\n",
    "unique_million_song_subset_ids = set(million_song_df[\"track_id\"])\n",
    "items_in_both = unique_triplet_item_ids & unique_million_song_subset_ids\n",
    "print(f'found {len(items_in_both)} songs') \n"
   ]
  },
  {
   "cell_type": "code",
   "execution_count": null,
   "metadata": {},
   "outputs": [],
   "source": [
    "million_song_df = million_song_df[million_song_df['track_id'].isin(items_in_both)]\n",
    "million_song_df.head()"
   ]
  }
 ],
 "metadata": {
  "kernelspec": {
   "display_name": "music_recommender",
   "language": "python",
   "name": "python3"
  },
  "language_info": {
   "codemirror_mode": {
    "name": "ipython",
    "version": 3
   },
   "file_extension": ".py",
   "mimetype": "text/x-python",
   "name": "python",
   "nbconvert_exporter": "python",
   "pygments_lexer": "ipython3",
   "version": "3.11.5"
  }
 },
 "nbformat": 4,
 "nbformat_minor": 2
}
