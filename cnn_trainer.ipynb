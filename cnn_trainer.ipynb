{
 "cells": [
  {
   "cell_type": "code",
   "execution_count": 1,
   "metadata": {},
   "outputs": [
    {
     "name": "stderr",
     "output_type": "stream",
     "text": [
      "2024-04-28 19:56:26.667053: I tensorflow/core/platform/cpu_feature_guard.cc:210] This TensorFlow binary is optimized to use available CPU instructions in performance-critical operations.\n",
      "To enable the following instructions: AVX2 FMA, in other operations, rebuild TensorFlow with the appropriate compiler flags.\n",
      "2024-04-28 19:56:28.466251: W tensorflow/compiler/tf2tensorrt/utils/py_utils.cc:38] TF-TRT Warning: Could not find TensorRT\n"
     ]
    },
    {
     "name": "stdout",
     "output_type": "stream",
     "text": [
      "Num GPUs Available:  1\n"
     ]
    }
   ],
   "source": [
    "import tensorflow as tf\n",
    "import numpy as np\n",
    "import os\n",
    "\n",
    "print(\"Num GPUs Available: \", len(tf.config.list_physical_devices('GPU')))\n",
    "gpu_devices = tf.config.experimental.list_physical_devices('GPU')\n",
    "for device in gpu_devices:\n",
    "    tf.config.experimental.set_memory_growth(device, True)"
   ]
  },
  {
   "cell_type": "code",
   "execution_count": 2,
   "metadata": {},
   "outputs": [
    {
     "name": "stderr",
     "output_type": "stream",
     "text": [
      "/home/zeb/Documents/School/CSCI5123/CNN-Music-Recommender/CNNenv/lib/python3.10/site-packages/tqdm/auto.py:21: TqdmWarning: IProgress not found. Please update jupyter and ipywidgets. See https://ipywidgets.readthedocs.io/en/stable/user_install.html\n",
      "  from .autonotebook import tqdm as notebook_tqdm\n"
     ]
    }
   ],
   "source": [
    "from cnn import LFV_CNN\n",
    "from dataset_master import DatasetMaster"
   ]
  },
  {
   "cell_type": "code",
   "execution_count": 3,
   "metadata": {},
   "outputs": [
    {
     "name": "stdout",
     "output_type": "stream",
     "text": [
      "Found: 3675 songs between the train_triplets and the million song dataset\n",
      "Found: 2363 songs between the free music archive (full track list), train_triplets and the million song dataset\n"
     ]
    },
    {
     "name": "stderr",
     "output_type": "stream",
     "text": [
      "/home/zeb/Documents/School/CSCI5123/CNN-Music-Recommender/dataset_master.py:47: FutureWarning: The behavior of DataFrame concatenation with empty or all-NA entries is deprecated. In a future version, this will no longer exclude empty or all-NA columns when determining the result dtypes. To retain the old behavior, exclude the relevant entries before the concat operation.\n",
      "  master_df = pd.concat([master_df, pd.DataFrame([row])])\n"
     ]
    },
    {
     "name": "stdout",
     "output_type": "stream",
     "text": [
      "Found: 2363 songs between the free music archive (audio samples), train_triplets and the million song dataset\n"
     ]
    },
    {
     "name": "stderr",
     "output_type": "stream",
     "text": [
      "  1%|▏         | 34/2363 [00:04<03:36, 10.78it/s][src/libmpg123/parse.c:do_readahead():1099] warning: Cannot read next header, a one-frame stream? Duh...\n",
      "/home/zeb/Documents/School/CSCI5123/CNN-Music-Recommender/dataset_master.py:135: UserWarning: PySoundFile failed. Trying audioread instead.\n",
      "  y, sr = librosa.load(audio_path, sr=None, offset=offset, duration=duration)  # keeps original sampling rate. offset is when to start loading and dur. is how long\n",
      "/home/zeb/Documents/School/CSCI5123/CNN-Music-Recommender/CNNenv/lib/python3.10/site-packages/librosa/core/audio.py:183: FutureWarning: librosa.core.audio.__audioread_load\n",
      "\tDeprecated as of librosa version 0.10.0.\n",
      "\tIt will be removed in librosa version 1.0.\n",
      "  y, sr_native = __audioread_load(path, offset, duration, dtype)\n",
      "  2%|▏         | 38/2363 [00:04<03:53,  9.94it/s][src/libmpg123/parse.c:do_readahead():1099] warning: Cannot read next header, a one-frame stream? Duh...\n",
      "  4%|▍         | 89/2363 [00:09<03:22, 11.25it/s]/home/zeb/Documents/School/CSCI5123/CNN-Music-Recommender/CNNenv/lib/python3.10/site-packages/librosa/core/spectrum.py:257: UserWarning: n_fft=2048 is too large for input signal of length=0\n",
      "  warnings.warn(\n",
      " 56%|█████▌    | 1328/2363 [02:01<01:35, 10.82it/s][src/libmpg123/layer3.c:INT123_do_layer3():1771] error: part2_3_length (1024) too large for available bit count (968)\n",
      " 58%|█████▊    | 1368/2363 [02:05<01:40,  9.92it/s][src/libmpg123/parse.c:do_readahead():1099] warning: Cannot read next header, a one-frame stream? Duh...\n",
      " 69%|██████▉   | 1638/2363 [02:31<01:17,  9.37it/s][src/libmpg123/layer3.c:INT123_do_layer3():1771] error: part2_3_length (928) too large for available bit count (736)\n",
      "[src/libmpg123/layer3.c:INT123_do_layer3():1771] error: part2_3_length (736) too large for available bit count (728)\n",
      "[src/libmpg123/layer3.c:INT123_do_layer3():1771] error: part2_3_length (1088) too large for available bit count (728)\n",
      "[src/libmpg123/layer3.c:INT123_do_layer3():1771] error: part2_3_length (864) too large for available bit count (736)\n",
      "[src/libmpg123/layer3.c:INT123_do_layer3():1771] error: part2_3_length (736) too large for available bit count (728)\n",
      " 72%|███████▏  | 1711/2363 [02:38<01:03, 10.24it/s][src/libmpg123/parse.c:do_readahead():1099] warning: Cannot read next header, a one-frame stream? Duh...\n",
      "100%|██████████| 2363/2363 [03:39<00:00, 10.75it/s]\n"
     ]
    },
    {
     "name": "stdout",
     "output_type": "stream",
     "text": [
      "From 2363 songs 15557 data samples were created\n"
     ]
    },
    {
     "data": {
      "text/html": [
       "<div>\n",
       "<style scoped>\n",
       "    .dataframe tbody tr th:only-of-type {\n",
       "        vertical-align: middle;\n",
       "    }\n",
       "\n",
       "    .dataframe tbody tr th {\n",
       "        vertical-align: top;\n",
       "    }\n",
       "\n",
       "    .dataframe thead th {\n",
       "        text-align: right;\n",
       "    }\n",
       "</style>\n",
       "<table border=\"1\" class=\"dataframe\">\n",
       "  <thead>\n",
       "    <tr style=\"text-align: right;\">\n",
       "      <th></th>\n",
       "      <th>track_id</th>\n",
       "      <th>track_title</th>\n",
       "      <th>artist_name_x</th>\n",
       "      <th>play_count</th>\n",
       "      <th>index_into_fma_track_df</th>\n",
       "      <th>artist_name_y</th>\n",
       "    </tr>\n",
       "  </thead>\n",
       "  <tbody>\n",
       "    <tr>\n",
       "      <th>0</th>\n",
       "      <td>SOHKNRJ12A6701D1F8</td>\n",
       "      <td>drop of rain</td>\n",
       "      <td>tweeterfriendly music</td>\n",
       "      <td>0.000000</td>\n",
       "      <td>70568</td>\n",
       "      <td>vesme dreamchatcher kiong</td>\n",
       "    </tr>\n",
       "    <tr>\n",
       "      <th>1</th>\n",
       "      <td>SOHUOAP12A8AE488E9</td>\n",
       "      <td>floating</td>\n",
       "      <td>blue rodeo</td>\n",
       "      <td>0.405116</td>\n",
       "      <td>12168</td>\n",
       "      <td>brunk</td>\n",
       "    </tr>\n",
       "    <tr>\n",
       "      <th>2</th>\n",
       "      <td>SOHUOAP12A8AE488E9</td>\n",
       "      <td>floating</td>\n",
       "      <td>blue rodeo</td>\n",
       "      <td>0.405116</td>\n",
       "      <td>41554</td>\n",
       "      <td>john ming</td>\n",
       "    </tr>\n",
       "    <tr>\n",
       "      <th>3</th>\n",
       "      <td>SOHUOAP12A8AE488E9</td>\n",
       "      <td>floating</td>\n",
       "      <td>blue rodeo</td>\n",
       "      <td>0.405116</td>\n",
       "      <td>81737</td>\n",
       "      <td>podington bear</td>\n",
       "    </tr>\n",
       "    <tr>\n",
       "      <th>4</th>\n",
       "      <td>SOHUOAP12A8AE488E9</td>\n",
       "      <td>floating</td>\n",
       "      <td>blue rodeo</td>\n",
       "      <td>0.405116</td>\n",
       "      <td>103945</td>\n",
       "      <td>section 27 netlabel</td>\n",
       "    </tr>\n",
       "  </tbody>\n",
       "</table>\n",
       "</div>"
      ],
      "text/plain": [
       "             track_id   track_title          artist_name_x  play_count  \\\n",
       "0  SOHKNRJ12A6701D1F8  drop of rain  tweeterfriendly music    0.000000   \n",
       "1  SOHUOAP12A8AE488E9      floating             blue rodeo    0.405116   \n",
       "2  SOHUOAP12A8AE488E9      floating             blue rodeo    0.405116   \n",
       "3  SOHUOAP12A8AE488E9      floating             blue rodeo    0.405116   \n",
       "4  SOHUOAP12A8AE488E9      floating             blue rodeo    0.405116   \n",
       "\n",
       "  index_into_fma_track_df              artist_name_y  \n",
       "0                   70568  vesme dreamchatcher kiong  \n",
       "1                   12168                      brunk  \n",
       "2                   41554                  john ming  \n",
       "3                   81737             podington bear  \n",
       "4                  103945        section 27 netlabel  "
      ]
     },
     "execution_count": 3,
     "metadata": {},
     "output_type": "execute_result"
    }
   ],
   "source": [
    "a = DatasetMaster()\n",
    "a.master_df.head()"
   ]
  },
  {
   "cell_type": "code",
   "execution_count": 4,
   "metadata": {},
   "outputs": [
    {
     "name": "stderr",
     "output_type": "stream",
     "text": [
      "/home/zeb/Documents/School/CSCI5123/CNN-Music-Recommender/CNNenv/lib/python3.10/site-packages/keras/src/layers/convolutional/base_conv.py:107: UserWarning: Do not pass an `input_shape`/`input_dim` argument to a layer. When using Sequential models, prefer using an `Input(shape)` object as the first layer in the model instead.\n",
      "  super().__init__(activity_regularizer=activity_regularizer, **kwargs)\n",
      "2024-04-28 20:00:23.148958: I tensorflow/core/common_runtime/gpu/gpu_device.cc:1928] Created device /job:localhost/replica:0/task:0/device:GPU:0 with 3987 MB memory:  -> device: 0, name: NVIDIA GeForce RTX 3060 Laptop GPU, pci bus id: 0000:01:00.0, compute capability: 8.6\n"
     ]
    }
   ],
   "source": [
    "CNN_Model = LFV_CNN()"
   ]
  },
  {
   "cell_type": "code",
   "execution_count": 6,
   "metadata": {},
   "outputs": [
    {
     "name": "stdout",
     "output_type": "stream",
     "text": [
      "(10980, 128, 259)\n",
      "(10980, 50)\n",
      "(2214, 128, 259)\n",
      "(2214, 50)\n"
     ]
    }
   ],
   "source": [
    "for index, i in enumerate((a.CNN_Train_Data[0], a.CNN_Train_Data[1], a.CNN_Train_Data[2], a.CNN_Train_Data[3])):\n",
    "    print(i.shape)\n",
    "    for lower_index, j in enumerate(i):\n",
    "        np.savetxt(f'train_data/{index}_{lower_index}.txt', a.CNN_Train_Data[index][lower_index], fmt='%f')"
   ]
  },
  {
   "cell_type": "code",
   "execution_count": null,
   "metadata": {},
   "outputs": [],
   "source": [
    "if 0:\n",
    "    for _, _, files in os.walk('train_data'):\n",
    "        for file in files:\n",
    "            file = file[:-4].split(\"_\")\n",
    "            print(file)\n",
    "            # print(f'\\t{file[11]}')"
   ]
  },
  {
   "cell_type": "code",
   "execution_count": 7,
   "metadata": {},
   "outputs": [
    {
     "name": "stderr",
     "output_type": "stream",
     "text": [
      "2024-04-28 20:07:14.894920: W external/local_tsl/tsl/framework/cpu_allocator_impl.cc:83] Allocation of 1456035840 exceeds 10% of free system memory.\n",
      "2024-04-28 20:07:16.387112: W external/local_tsl/tsl/framework/cpu_allocator_impl.cc:83] Allocation of 1456035840 exceeds 10% of free system memory.\n"
     ]
    },
    {
     "name": "stdout",
     "output_type": "stream",
     "text": [
      "Epoch 1/20\n"
     ]
    },
    {
     "name": "stderr",
     "output_type": "stream",
     "text": [
      "WARNING: All log messages before absl::InitializeLog() is called are written to STDERR\n",
      "I0000 00:00:1714352838.492935   90530 service.cc:145] XLA service 0x7b9454001f80 initialized for platform CUDA (this does not guarantee that XLA will be used). Devices:\n",
      "I0000 00:00:1714352838.492970   90530 service.cc:153]   StreamExecutor device (0): NVIDIA GeForce RTX 3060 Laptop GPU, Compute Capability 8.6\n",
      "2024-04-28 20:07:18.544800: I tensorflow/compiler/mlir/tensorflow/utils/dump_mlir_util.cc:268] disabling MLIR crash reproducer, set env var `MLIR_CRASH_REPRODUCER_DIRECTORY` to enable.\n",
      "2024-04-28 20:07:18.772722: I external/local_xla/xla/stream_executor/cuda/cuda_dnn.cc:465] Loaded cuDNN version 8907\n"
     ]
    },
    {
     "name": "stdout",
     "output_type": "stream",
     "text": [
      "\u001b[1m  9/344\u001b[0m \u001b[37m━━━━━━━━━━━━━━━━━━━━\u001b[0m \u001b[1m5s\u001b[0m 15ms/step - accuracy: 0.0536 - loss: 8.7452 "
     ]
    },
    {
     "name": "stderr",
     "output_type": "stream",
     "text": [
      "I0000 00:00:1714352843.140980   90530 device_compiler.h:188] Compiled cluster using XLA!  This line is logged at most once for the lifetime of the process.\n"
     ]
    },
    {
     "name": "stdout",
     "output_type": "stream",
     "text": [
      "\u001b[1m344/344\u001b[0m \u001b[32m━━━━━━━━━━━━━━━━━━━━\u001b[0m\u001b[37m\u001b[0m \u001b[1m15s\u001b[0m 27ms/step - accuracy: 0.0227 - loss: 0.8578 - val_accuracy: 0.0041 - val_loss: 0.0966\n",
      "Epoch 2/20\n",
      "\u001b[1m344/344\u001b[0m \u001b[32m━━━━━━━━━━━━━━━━━━━━\u001b[0m\u001b[37m\u001b[0m \u001b[1m5s\u001b[0m 15ms/step - accuracy: 0.0043 - loss: 0.0946 - val_accuracy: 0.0714 - val_loss: 0.0940\n",
      "Epoch 3/20\n",
      "\u001b[1m344/344\u001b[0m \u001b[32m━━━━━━━━━━━━━━━━━━━━\u001b[0m\u001b[37m\u001b[0m \u001b[1m5s\u001b[0m 15ms/step - accuracy: 0.0587 - loss: 0.0935 - val_accuracy: 0.0714 - val_loss: 0.0939\n",
      "Epoch 4/20\n",
      "\u001b[1m344/344\u001b[0m \u001b[32m━━━━━━━━━━━━━━━━━━━━\u001b[0m\u001b[37m\u001b[0m \u001b[1m5s\u001b[0m 16ms/step - accuracy: 0.0410 - loss: 0.0942 - val_accuracy: 0.0172 - val_loss: 0.0939\n",
      "Epoch 5/20\n",
      "\u001b[1m344/344\u001b[0m \u001b[32m━━━━━━━━━━━━━━━━━━━━\u001b[0m\u001b[37m\u001b[0m \u001b[1m5s\u001b[0m 16ms/step - accuracy: 0.0176 - loss: 0.0960 - val_accuracy: 0.0172 - val_loss: 0.0939\n",
      "Epoch 6/20\n",
      "\u001b[1m344/344\u001b[0m \u001b[32m━━━━━━━━━━━━━━━━━━━━\u001b[0m\u001b[37m\u001b[0m \u001b[1m5s\u001b[0m 15ms/step - accuracy: 0.0181 - loss: 0.0933 - val_accuracy: 0.0172 - val_loss: 0.0939\n",
      "Epoch 7/20\n",
      "\u001b[1m344/344\u001b[0m \u001b[32m━━━━━━━━━━━━━━━━━━━━\u001b[0m\u001b[37m\u001b[0m \u001b[1m5s\u001b[0m 16ms/step - accuracy: 0.0255 - loss: 0.0944 - val_accuracy: 0.0172 - val_loss: 0.0939\n",
      "Epoch 8/20\n",
      "\u001b[1m344/344\u001b[0m \u001b[32m━━━━━━━━━━━━━━━━━━━━\u001b[0m\u001b[37m\u001b[0m \u001b[1m5s\u001b[0m 16ms/step - accuracy: 0.0240 - loss: 0.0943 - val_accuracy: 0.0172 - val_loss: 0.0939\n",
      "Epoch 9/20\n",
      "\u001b[1m344/344\u001b[0m \u001b[32m━━━━━━━━━━━━━━━━━━━━\u001b[0m\u001b[37m\u001b[0m \u001b[1m5s\u001b[0m 16ms/step - accuracy: 0.0179 - loss: 0.0939 - val_accuracy: 0.0172 - val_loss: 0.0940\n",
      "Epoch 10/20\n",
      "\u001b[1m344/344\u001b[0m \u001b[32m━━━━━━━━━━━━━━━━━━━━\u001b[0m\u001b[37m\u001b[0m \u001b[1m5s\u001b[0m 16ms/step - accuracy: 0.0216 - loss: 0.0936 - val_accuracy: 0.0172 - val_loss: 0.0939\n",
      "Epoch 11/20\n",
      "\u001b[1m344/344\u001b[0m \u001b[32m━━━━━━━━━━━━━━━━━━━━\u001b[0m\u001b[37m\u001b[0m \u001b[1m5s\u001b[0m 16ms/step - accuracy: 0.0184 - loss: 0.0928 - val_accuracy: 0.0172 - val_loss: 0.0940\n",
      "Epoch 12/20\n",
      "\u001b[1m344/344\u001b[0m \u001b[32m━━━━━━━━━━━━━━━━━━━━\u001b[0m\u001b[37m\u001b[0m \u001b[1m5s\u001b[0m 15ms/step - accuracy: 0.0459 - loss: 0.0939 - val_accuracy: 0.0041 - val_loss: 0.0939\n",
      "Epoch 13/20\n",
      "\u001b[1m344/344\u001b[0m \u001b[32m━━━━━━━━━━━━━━━━━━━━\u001b[0m\u001b[37m\u001b[0m \u001b[1m5s\u001b[0m 16ms/step - accuracy: 0.0128 - loss: 0.0938 - val_accuracy: 0.0172 - val_loss: 0.0939\n",
      "Epoch 14/20\n",
      "\u001b[1m344/344\u001b[0m \u001b[32m━━━━━━━━━━━━━━━━━━━━\u001b[0m\u001b[37m\u001b[0m \u001b[1m5s\u001b[0m 16ms/step - accuracy: 0.0162 - loss: 0.0950 - val_accuracy: 0.0172 - val_loss: 0.0940\n",
      "Epoch 15/20\n",
      "\u001b[1m344/344\u001b[0m \u001b[32m━━━━━━━━━━━━━━━━━━━━\u001b[0m\u001b[37m\u001b[0m \u001b[1m6s\u001b[0m 16ms/step - accuracy: 0.0377 - loss: 0.0934 - val_accuracy: 0.0172 - val_loss: 0.0940\n",
      "Epoch 16/20\n",
      "\u001b[1m344/344\u001b[0m \u001b[32m━━━━━━━━━━━━━━━━━━━━\u001b[0m\u001b[37m\u001b[0m \u001b[1m5s\u001b[0m 16ms/step - accuracy: 0.0229 - loss: 0.0923 - val_accuracy: 0.0172 - val_loss: 0.0940\n",
      "Epoch 17/20\n",
      "\u001b[1m344/344\u001b[0m \u001b[32m━━━━━━━━━━━━━━━━━━━━\u001b[0m\u001b[37m\u001b[0m \u001b[1m5s\u001b[0m 16ms/step - accuracy: 0.0360 - loss: 0.0941 - val_accuracy: 0.0172 - val_loss: 0.0940\n",
      "Epoch 18/20\n",
      "\u001b[1m344/344\u001b[0m \u001b[32m━━━━━━━━━━━━━━━━━━━━\u001b[0m\u001b[37m\u001b[0m \u001b[1m5s\u001b[0m 15ms/step - accuracy: 0.0213 - loss: 0.0952 - val_accuracy: 0.0172 - val_loss: 0.0940\n",
      "Epoch 19/20\n",
      "\u001b[1m344/344\u001b[0m \u001b[32m━━━━━━━━━━━━━━━━━━━━\u001b[0m\u001b[37m\u001b[0m \u001b[1m5s\u001b[0m 16ms/step - accuracy: 0.0195 - loss: 0.0946 - val_accuracy: 0.0714 - val_loss: 0.0939\n",
      "Epoch 20/20\n",
      "\u001b[1m344/344\u001b[0m \u001b[32m━━━━━━━━━━━━━━━━━━━━\u001b[0m\u001b[37m\u001b[0m \u001b[1m5s\u001b[0m 15ms/step - accuracy: 0.0683 - loss: 0.0924 - val_accuracy: 0.0172 - val_loss: 0.0940\n"
     ]
    },
    {
     "data": {
      "text/plain": [
       "<Figure size 640x480 with 0 Axes>"
      ]
     },
     "metadata": {},
     "output_type": "display_data"
    },
    {
     "data": {
      "image/png": "[encoded data removed]",
      "text/plain": [
       "<Figure size 1200x500 with 2 Axes>"
      ]
     },
     "metadata": {},
     "output_type": "display_data"
    }
   ],
   "source": [
    "# CNN_Model.train(np.array(a.CNN_Train_Data[0])[0], np.array(a.CNN_Train_Data[1])[0], np.array(a.CNN_Train_Data[2])[0], np.array(a.CNN_Train_Data[3])[0])\n",
    "CNN_Model = LFV_CNN()\n",
    "CNN_Model.train(np.array(a.CNN_Train_Data[0]), np.array(a.CNN_Train_Data[1]), np.array(a.CNN_Train_Data[2]), np.array(a.CNN_Train_Data[3]), epochs=20)"
   ]
  },
  {
   "cell_type": "code",
   "execution_count": null,
   "metadata": {},
   "outputs": [],
   "source": [
    "input_array = np.random.rand(128, 259).reshape(1, 128, 259, 1)\n",
    "print(input_array.shape)\n",
    "output_vector = CNN_Model.model.predict(input_array)\n",
    "\n",
    "print(output_vector)"
   ]
  },
  {
   "cell_type": "code",
   "execution_count": null,
   "metadata": {},
   "outputs": [],
   "source": [
    "np.array(a.CNN_Train_Data[1]).shape"
   ]
  }
 ],
 "metadata": {
  "kernelspec": {
   "display_name": "CNNenv",
   "language": "python",
   "name": "python3"
  },
  "language_info": {
   "codemirror_mode": {
    "name": "ipython",
    "version": 3
   },
   "file_extension": ".py",
   "mimetype": "text/x-python",
   "name": "python",
   "nbconvert_exporter": "python",
   "pygments_lexer": "ipython3",
   "version": "3.10.12"
  }
 },
 "nbformat": 4,
 "nbformat_minor": 2
}
