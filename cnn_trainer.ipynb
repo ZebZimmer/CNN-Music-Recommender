{
 "cells": [
  {
   "cell_type": "code",
   "execution_count": null,
   "metadata": {},
   "outputs": [],
   "source": [
    "import tensorflow as tf\n",
    "import numpy as np\n",
    "import os\n",
    "\n",
    "print(\"Num GPUs Available: \", len(tf.config.list_physical_devices('GPU')))\n",
    "gpu_devices = tf.config.experimental.list_physical_devices('GPU')\n",
    "for device in gpu_devices:\n",
    "    tf.config.experimental.set_memory_growth(device, True)"
   ]
  },
  {
   "cell_type": "code",
   "execution_count": null,
   "metadata": {},
   "outputs": [],
   "source": [
    "from cnn import LFV_CNN\n",
    "from dataset_master import DatasetMaster"
   ]
  },
  {
   "cell_type": "code",
   "execution_count": null,
   "metadata": {},
   "outputs": [],
   "source": [
    "a = DatasetMaster()\n",
    "a.master_df.head()"
   ]
  },
  {
   "cell_type": "code",
   "execution_count": null,
   "metadata": {},
   "outputs": [],
   "source": [
    "CNN_Model = LFV_CNN()"
   ]
  },
  {
   "cell_type": "code",
   "execution_count": null,
   "metadata": {},
   "outputs": [],
   "source": [
    "for index, i in enumerate((a.CNN_Train_Data[0], a.CNN_Train_Data[1], a.CNN_Train_Data[2], a.CNN_Train_Data[3])):\n",
    "    print(i.shape)\n",
    "    for lower_index, j in enumerate(i):\n",
    "        np.savetxt(f'train_data/{index}_{lower_index}.txt', a.CNN_Train_Data[index][lower_index], fmt='%f')"
   ]
  },
  {
   "cell_type": "code",
   "execution_count": null,
   "metadata": {},
   "outputs": [],
   "source": [
    "if 0:\n",
    "    for _, _, files in os.walk('train_data'):\n",
    "        for file in files:\n",
    "            file = file[:-4].split(\"_\")\n",
    "            print(file)\n",
    "            # print(f'\\t{file[11]}')"
   ]
  },
  {
   "cell_type": "code",
   "execution_count": null,
   "metadata": {},
   "outputs": [],
   "source": [
    "# CNN_Model.train(np.array(a.CNN_Train_Data[0])[0], np.array(a.CNN_Train_Data[1])[0], np.array(a.CNN_Train_Data[2])[0], np.array(a.CNN_Train_Data[3])[0])\n",
    "CNN_Model = LFV_CNN()\n",
    "CNN_Model.train(np.array(a.CNN_Train_Data[0]), np.array(a.CNN_Train_Data[1]), np.array(a.CNN_Train_Data[2]), np.array(a.CNN_Train_Data[3]), epochs=20)"
   ]
  },
  {
   "cell_type": "code",
   "execution_count": null,
   "metadata": {},
   "outputs": [],
   "source": [
    "input_array = np.random.rand(128, 259).reshape(1, 128, 259, 1)\n",
    "print(input_array.shape)\n",
    "output_vector = CNN_Model.model.predict(input_array)\n",
    "\n",
    "print(output_vector)"
   ]
  },
  {
   "cell_type": "code",
   "execution_count": null,
   "metadata": {},
   "outputs": [],
   "source": [
    "np.array(a.CNN_Train_Data[1]).shape"
   ]
  }
 ],
 "metadata": {
  "kernelspec": {
   "display_name": "CNNenv",
   "language": "python",
   "name": "python3"
  },
  "language_info": {
   "codemirror_mode": {
    "name": "ipython",
    "version": 3
   },
   "file_extension": ".py",
   "mimetype": "text/x-python",
   "name": "python",
   "nbconvert_exporter": "python",
   "pygments_lexer": "ipython3",
   "version": "3.10.12"
  }
 },
 "nbformat": 4,
 "nbformat_minor": 2
}
