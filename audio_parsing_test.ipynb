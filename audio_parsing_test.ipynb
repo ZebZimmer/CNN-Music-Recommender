{
 "cells": [
  {
   "cell_type": "code",
   "execution_count": null,
   "metadata": {},
   "outputs": [],
   "source": [
    "for fma_track_id in matched_tracks['index_into_fma_track_df']:\n",
    "    if fma_track_id in all_fma_tracks:\n",
    "        print(f\"YES: {fma_track_id} exists and we have an mp3 file for it\")"
   ]
  },
  {
   "cell_type": "code",
   "execution_count": null,
   "metadata": {},
   "outputs": [],
   "source": [
    "mel_spec = create_mel_spectrogram(find_fma_song(98622), duration=3, plot=True)"
   ]
  },
  {
   "cell_type": "code",
   "execution_count": 1,
   "metadata": {},
   "outputs": [
    {
     "name": "stderr",
     "output_type": "stream",
     "text": [
      "2024-04-28 01:53:32.875856: I tensorflow/core/platform/cpu_feature_guard.cc:210] This TensorFlow binary is optimized to use available CPU instructions in performance-critical operations.\n",
      "To enable the following instructions: AVX2 FMA, in other operations, rebuild TensorFlow with the appropriate compiler flags.\n",
      "2024-04-28 01:53:34.315694: W tensorflow/compiler/tf2tensorrt/utils/py_utils.cc:38] TF-TRT Warning: Could not find TensorRT\n",
      "/home/zeb/Documents/School/CSCI5123/CNN-Music-Recommender/CNNenv/lib/python3.10/site-packages/tqdm/auto.py:21: TqdmWarning: IProgress not found. Please update jupyter and ipywidgets. See https://ipywidgets.readthedocs.io/en/stable/user_install.html\n",
      "  from .autonotebook import tqdm as notebook_tqdm\n"
     ]
    },
    {
     "name": "stdout",
     "output_type": "stream",
     "text": [
      "Found: 3675 songs between the train_triplets and the million song dataset\n",
      "Found: 2363 songs between the free music archive (full track list), train_triplets and the million song dataset\n",
      "Found: 167 songs between the free music archive (audio samples), train_triplets and the million song dataset\n"
     ]
    },
    {
     "name": "stderr",
     "output_type": "stream",
     "text": [
      "/home/zeb/Documents/School/CSCI5123/CNN-Music-Recommender/dataset_master.py:45: FutureWarning: The behavior of DataFrame concatenation with empty or all-NA entries is deprecated. In a future version, this will no longer exclude empty or all-NA columns when determining the result dtypes. To retain the old behavior, exclude the relevant entries before the concat operation.\n",
      "  master_df = pd.concat([master_df, pd.DataFrame([row])])\n"
     ]
    },
    {
     "name": "stdout",
     "output_type": "stream",
     "text": [
      "[[ 0.54169226 -0.5633548  -0.5601653   0.5363168   0.5463628  -0.56084245\n",
      "   0.5702676   0.57080114  0.54573697  0.5703863  -0.55793273  0.53697664\n",
      "   0.5299573  -0.57026404  0.56487894 -0.55957294  0.5499256  -0.55188864\n",
      "  -0.5373938  -0.53656423 -0.49192816  0.5672112   0.5314286  -0.54991394\n",
      "   0.5456841  -0.5412799   0.5564396   0.43486574  0.3703698   0.57875043\n",
      "   0.55288893  0.56700474  0.5400156  -0.5449578  -0.5588435  -0.5404437\n",
      "   0.5419032   0.5479695  -0.5372913   0.57613885 -0.53922665 -0.5656087\n",
      "  -0.5563892  -0.5777423   0.53702074  0.54073995  0.5375891   0.54508775\n",
      "  -0.5410191   0.5650353 ]\n",
      " [-0.5604518  -0.22156852 -0.5731583  -0.5465524   0.56845963 -0.49547622\n",
      "  -0.55566794 -0.56228524  0.5582123  -0.46390837  0.5649578   0.5553522\n",
      "   0.5625106  -0.52906805 -0.56133854  0.2755906  -0.5615986   0.5577168\n",
      "  -0.478453   -0.56884664  0.47557768  0.56257343 -0.54948115  0.5797658\n",
      "   0.5545998   0.3704861   0.5423756   0.5437798   0.5381217   0.54159707\n",
      "  -0.29529777 -0.55903006 -0.53471035  0.53892136 -0.5667663  -0.4606352\n",
      "   0.45449665 -0.42333695  0.57533497 -0.44667315  0.5313706   0.54818845\n",
      "   0.5587123  -0.5303019   0.3461032  -0.5486889  -0.4343334  -0.5443417\n",
      "   0.21104202  0.45181254]\n",
      " [ 0.5527644   0.5684002   0.5571826   0.54297405 -0.57563424 -0.55303454\n",
      "   0.55414283  0.5670619   0.53615326 -0.5521009   0.52103746 -0.57201385\n",
      "   0.56414515 -0.5525034   0.54526645 -0.55454445  0.5709619  -0.5508821\n",
      "   0.5646276   0.5529516   0.56380147  0.5802957  -0.5607113  -0.5463525\n",
      "  -0.5385989   0.54511076  0.56668544  0.55923283  0.5817748  -0.52639544\n",
      "   0.5533215   0.5443768   0.5420142   0.5688708   0.5663268  -0.5467211\n",
      "   0.5618259   0.5729778   0.53076345  0.5473307   0.5532463   0.55308545\n",
      "   0.54279363 -0.55712706 -0.5406278   0.53528804  0.57552874  0.5781355\n",
      "  -0.55395466 -0.5554554 ]]\n",
      "(3675, 50)\n",
      "(3675, 4)\n",
      "              track_id             track_title            artist_name  \\\n",
      "1   SOCIWDW12A8C13D406               soul deep           the box tops   \n",
      "4   SOFSOCN12A8C143F5D          face the ashes                    gob   \n",
      "7   SOHKNRJ12A6701D1F8            drop of rain  tweeterfriendly music   \n",
      "11  SOKEJEJ12A8C13E0D0  the urgency lp version           wayne watson   \n",
      "12  SOMUYGI12AB0188633                la culpa              andy andy   \n",
      "\n",
      "    play_count  \n",
      "1     0.000000  \n",
      "4     0.604501  \n",
      "7     0.000000  \n",
      "11    0.265861  \n",
      "12    0.000000  \n",
      "index = 0 and (18, track_id                   SOJEVZW12A8C133988\n",
      "track_title                           waiting\n",
      "artist_name_x                  porcupine tree\n",
      "play_count                           0.825174\n",
      "index_into_fma_track_df                 85957\n",
      "artist_name_y                      pete galub\n",
      "Name: 18, dtype: object)\n"
     ]
    },
    {
     "ename": "TypeError",
     "evalue": "unhashable type: 'Series'",
     "output_type": "error",
     "traceback": [
      "\u001b[0;31m---------------------------------------------------------------------------\u001b[0m",
      "\u001b[0;31mTypeError\u001b[0m                                 Traceback (most recent call last)",
      "Cell \u001b[0;32mIn[1], line 4\u001b[0m\n\u001b[1;32m      1\u001b[0m \u001b[38;5;28;01mfrom\u001b[39;00m \u001b[38;5;21;01mcnn\u001b[39;00m \u001b[38;5;28;01mimport\u001b[39;00m LFV_CNN\n\u001b[1;32m      2\u001b[0m \u001b[38;5;28;01mfrom\u001b[39;00m \u001b[38;5;21;01mdataset_master\u001b[39;00m \u001b[38;5;28;01mimport\u001b[39;00m DatasetMaster\n\u001b[0;32m----> 4\u001b[0m a \u001b[38;5;241m=\u001b[39m \u001b[43mDatasetMaster\u001b[49m\u001b[43m(\u001b[49m\u001b[43m)\u001b[49m\n",
      "File \u001b[0;32m~/Documents/School/CSCI5123/CNN-Music-Recommender/dataset_master.py:32\u001b[0m, in \u001b[0;36mDatasetMaster.__init__\u001b[0;34m(self)\u001b[0m\n\u001b[1;32m     30\u001b[0m \u001b[38;5;28mself\u001b[39m\u001b[38;5;241m.\u001b[39mWMF \u001b[38;5;241m=\u001b[39m WMF_Model()\n\u001b[1;32m     31\u001b[0m \u001b[38;5;28mself\u001b[39m\u001b[38;5;241m.\u001b[39mWMF \u001b[38;5;241m=\u001b[39m \u001b[38;5;28mself\u001b[39m\u001b[38;5;241m.\u001b[39mWMF\u001b[38;5;241m.\u001b[39mload(SAVED_MODEL_LOCATION\u001b[38;5;241m+\u001b[39m\u001b[38;5;124m\"\u001b[39m\u001b[38;5;124m/WMF/wmf_on_best_TT.pkl\u001b[39m\u001b[38;5;124m\"\u001b[39m)\n\u001b[0;32m---> 32\u001b[0m \u001b[38;5;28mself\u001b[39m\u001b[38;5;241m.\u001b[39mCNN_Train_Data \u001b[38;5;241m=\u001b[39m \u001b[38;5;28;43mself\u001b[39;49m\u001b[38;5;241;43m.\u001b[39;49m\u001b[43mcreate_CNN_data\u001b[49m\u001b[43m(\u001b[49m\u001b[43m)\u001b[49m\n",
      "File \u001b[0;32m~/Documents/School/CSCI5123/CNN-Music-Recommender/dataset_master.py:156\u001b[0m, in \u001b[0;36mDatasetMaster.create_CNN_data\u001b[0;34m(self)\u001b[0m\n\u001b[1;32m    154\u001b[0m \u001b[38;5;28;01mfor\u001b[39;00m index, song \u001b[38;5;129;01min\u001b[39;00m \u001b[38;5;28menumerate\u001b[39m(\u001b[38;5;28mself\u001b[39m\u001b[38;5;241m.\u001b[39mmaster_df\u001b[38;5;241m.\u001b[39miterrows()):\n\u001b[1;32m    155\u001b[0m     \u001b[38;5;28mprint\u001b[39m(\u001b[38;5;124mf\u001b[39m\u001b[38;5;124m\"\u001b[39m\u001b[38;5;132;01m{\u001b[39;00mindex\u001b[38;5;250m \u001b[39m\u001b[38;5;132;01m= }\u001b[39;00m\u001b[38;5;124m and \u001b[39m\u001b[38;5;132;01m{\u001b[39;00msong\u001b[38;5;132;01m}\u001b[39;00m\u001b[38;5;124m\"\u001b[39m)\n\u001b[0;32m--> 156\u001b[0m     \u001b[38;5;28;01mif\u001b[39;00m \u001b[43msong\u001b[49m\u001b[43m \u001b[49m\u001b[38;5;129;43;01min\u001b[39;49;00m\u001b[43m \u001b[49m\u001b[38;5;28;43mself\u001b[39;49m\u001b[38;5;241;43m.\u001b[39;49m\u001b[43mmatched_tracks\u001b[49m:\n\u001b[1;32m    157\u001b[0m         index_into_fma_track_df \u001b[38;5;241m=\u001b[39m song[\u001b[38;5;124m'\u001b[39m\u001b[38;5;124mindex_into_fma_track_df\u001b[39m\u001b[38;5;124m'\u001b[39m]\n\u001b[1;32m    158\u001b[0m         train_data \u001b[38;5;241m=\u001b[39m create_mel_spectrogram(find_fma_song(index_into_fma_track_df), offset\u001b[38;5;241m=\u001b[39mnp\u001b[38;5;241m.\u001b[39mrandom\u001b[38;5;241m.\u001b[39mrandint(\u001b[38;5;241m0\u001b[39m,\u001b[38;5;241m26\u001b[39m), duration\u001b[38;5;241m=\u001b[39m\u001b[38;5;241m3\u001b[39m)\n",
      "File \u001b[0;32m~/Documents/School/CSCI5123/CNN-Music-Recommender/CNNenv/lib/python3.10/site-packages/pandas/core/generic.py:2080\u001b[0m, in \u001b[0;36mNDFrame.__contains__\u001b[0;34m(self, key)\u001b[0m\n\u001b[1;32m   2077\u001b[0m \u001b[38;5;129m@final\u001b[39m\n\u001b[1;32m   2078\u001b[0m \u001b[38;5;28;01mdef\u001b[39;00m \u001b[38;5;21m__contains__\u001b[39m(\u001b[38;5;28mself\u001b[39m, key) \u001b[38;5;241m-\u001b[39m\u001b[38;5;241m>\u001b[39m bool_t:\n\u001b[1;32m   2079\u001b[0m \u001b[38;5;250m    \u001b[39m\u001b[38;5;124;03m\"\"\"True if the key is in the info axis\"\"\"\u001b[39;00m\n\u001b[0;32m-> 2080\u001b[0m     \u001b[38;5;28;01mreturn\u001b[39;00m \u001b[43mkey\u001b[49m\u001b[43m \u001b[49m\u001b[38;5;129;43;01min\u001b[39;49;00m\u001b[43m \u001b[49m\u001b[38;5;28;43mself\u001b[39;49m\u001b[38;5;241;43m.\u001b[39;49m\u001b[43m_info_axis\u001b[49m\n",
      "File \u001b[0;32m~/Documents/School/CSCI5123/CNN-Music-Recommender/CNNenv/lib/python3.10/site-packages/pandas/core/indexes/base.py:5358\u001b[0m, in \u001b[0;36mIndex.__contains__\u001b[0;34m(self, key)\u001b[0m\n\u001b[1;32m   5323\u001b[0m \u001b[38;5;28;01mdef\u001b[39;00m \u001b[38;5;21m__contains__\u001b[39m(\u001b[38;5;28mself\u001b[39m, key: Any) \u001b[38;5;241m-\u001b[39m\u001b[38;5;241m>\u001b[39m \u001b[38;5;28mbool\u001b[39m:\n\u001b[1;32m   5324\u001b[0m \u001b[38;5;250m    \u001b[39m\u001b[38;5;124;03m\"\"\"\u001b[39;00m\n\u001b[1;32m   5325\u001b[0m \u001b[38;5;124;03m    Return a boolean indicating whether the provided key is in the index.\u001b[39;00m\n\u001b[1;32m   5326\u001b[0m \n\u001b[0;32m   (...)\u001b[0m\n\u001b[1;32m   5356\u001b[0m \u001b[38;5;124;03m    False\u001b[39;00m\n\u001b[1;32m   5357\u001b[0m \u001b[38;5;124;03m    \"\"\"\u001b[39;00m\n\u001b[0;32m-> 5358\u001b[0m     \u001b[38;5;28;43mhash\u001b[39;49m\u001b[43m(\u001b[49m\u001b[43mkey\u001b[49m\u001b[43m)\u001b[49m\n\u001b[1;32m   5359\u001b[0m     \u001b[38;5;28;01mtry\u001b[39;00m:\n\u001b[1;32m   5360\u001b[0m         \u001b[38;5;28;01mreturn\u001b[39;00m key \u001b[38;5;129;01min\u001b[39;00m \u001b[38;5;28mself\u001b[39m\u001b[38;5;241m.\u001b[39m_engine\n",
      "\u001b[0;31mTypeError\u001b[0m: unhashable type: 'Series'"
     ]
    }
   ],
   "source": [
    "from cnn import LFV_CNN\n",
    "from dataset_master import DatasetMaster\n",
    "\n",
    "a = DatasetMaster()"
   ]
  },
  {
   "cell_type": "code",
   "execution_count": null,
   "metadata": {},
   "outputs": [],
   "source": [
    "len(a.master_df['track_id'])\n",
    "len(set(a.master_df['track_id']))"
   ]
  },
  {
   "cell_type": "code",
   "execution_count": null,
   "metadata": {},
   "outputs": [],
   "source": [
    "temp = a.master_df[a.master_df['track_id'].isin(set(a.master_df['track_id']))]\n",
    "print(len(temp))\n",
    "# for song in temp:\n",
    "#     a.create_mel_spectrogram()"
   ]
  }
 ],
 "metadata": {
  "kernelspec": {
   "display_name": "CNNenv",
   "language": "python",
   "name": "python3"
  },
  "language_info": {
   "codemirror_mode": {
    "name": "ipython",
    "version": 3
   },
   "file_extension": ".py",
   "mimetype": "text/x-python",
   "name": "python",
   "nbconvert_exporter": "python",
   "pygments_lexer": "ipython3",
   "version": "3.10.12"
  }
 },
 "nbformat": 4,
 "nbformat_minor": 2
}
