{
 "cells": [
  {
   "cell_type": "code",
   "execution_count": null,
   "metadata": {},
   "outputs": [],
   "source": [
    "import tensorflow as tf\n",
    "import numpy as np\n",
    "\n",
    "print(\"Num GPUs Available: \", len(tf.config.list_physical_devices('GPU')))\n",
    "gpu_devices = tf.config.experimental.list_physical_devices('GPU')\n",
    "for device in gpu_devices:\n",
    "    tf.config.experimental.set_memory_growth(device, True)"
   ]
  },
  {
   "cell_type": "code",
   "execution_count": null,
   "metadata": {},
   "outputs": [],
   "source": [
    "from cnn import LFV_CNN"
   ]
  },
  {
   "cell_type": "code",
   "execution_count": null,
   "metadata": {},
   "outputs": [],
   "source": [
    "# get track df (all songs in the fma_small music) and \n",
    "# million_song_df (all songs in triplet and million_song database)\n",
    "## Important because we only have ground truths for songs in million_song db\n",
    "# matched_tracks df which has track_id (triple name) and index_into_fma_track_df\n",
    "%run fma_exploration.ipynb"
   ]
  },
  {
   "cell_type": "code",
   "execution_count": null,
   "metadata": {},
   "outputs": [],
   "source": [
    "# \n",
    "%run audio_parsing_test.ipynb"
   ]
  },
  {
   "cell_type": "code",
   "execution_count": null,
   "metadata": {},
   "outputs": [],
   "source": [
    "CNN_Model = LFV_CNN()"
   ]
  },
  {
   "cell_type": "code",
   "execution_count": null,
   "metadata": {},
   "outputs": [],
   "source": [
    "np.random.randint(0, 100, size=50)\n",
    "create_mel_spectrogram(find_fma_song(98622), duration=3).shape"
   ]
  },
  {
   "cell_type": "code",
   "execution_count": null,
   "metadata": {},
   "outputs": [],
   "source": [
    "train_songs = np.array([create_mel_spectrogram(find_fma_song(98622), duration=3)])\n",
    "train_labels = [np.random.randint(0, 100, size=(1, 50))]\n",
    "\n",
    "validation_songs = np.array([np.random.randint(0, 100, size=(128,259))])\n",
    "validation_labels = [np.random.randint(0, 100, size=(1, 50))]"
   ]
  },
  {
   "cell_type": "code",
   "execution_count": null,
   "metadata": {},
   "outputs": [],
   "source": [
    "CNN_Model.train(train_songs, train_labels, validation_songs, validation_labels)"
   ]
  },
  {
   "cell_type": "code",
   "execution_count": 1,
   "metadata": {},
   "outputs": [
    {
     "name": "stdout",
     "output_type": "stream",
     "text": [
      "Found 115 songs between the train_triplets and the million song dataset\n",
      "Found: 40 songs between the free music archive (full track list), train_triplets and the million song dataset\n",
      "Found: 1 songs between the free music archive (audio samples), train_triplets and the million song dataset\n"
     ]
    },
    {
     "name": "stderr",
     "output_type": "stream",
     "text": [
      "/home/zeb/Documents/School/CSCI5123/CNN-Music-Recommender/datasetmaster.py:32: FutureWarning: The behavior of DataFrame concatenation with empty or all-NA entries is deprecated. In a future version, this will no longer exclude empty or all-NA columns when determining the result dtypes. To retain the old behavior, exclude the relevant entries before the concat operation.\n",
      "  master_df = pd.concat([master_df, pd.DataFrame([row])])\n"
     ]
    },
    {
     "data": {
      "text/html": [
       "<div>\n",
       "<style scoped>\n",
       "    .dataframe tbody tr th:only-of-type {\n",
       "        vertical-align: middle;\n",
       "    }\n",
       "\n",
       "    .dataframe tbody tr th {\n",
       "        vertical-align: top;\n",
       "    }\n",
       "\n",
       "    .dataframe thead th {\n",
       "        text-align: right;\n",
       "    }\n",
       "</style>\n",
       "<table border=\"1\" class=\"dataframe\">\n",
       "  <thead>\n",
       "    <tr style=\"text-align: right;\">\n",
       "      <th></th>\n",
       "      <th>track_id</th>\n",
       "      <th>track_title</th>\n",
       "      <th>artist_name_x</th>\n",
       "      <th>play_count</th>\n",
       "      <th>index_into_fma_track_df</th>\n",
       "      <th>artist_name_y</th>\n",
       "    </tr>\n",
       "  </thead>\n",
       "  <tbody>\n",
       "    <tr>\n",
       "      <th>15</th>\n",
       "      <td>SOHOOXT12A67ADA073</td>\n",
       "      <td>the devil</td>\n",
       "      <td>the rapture</td>\n",
       "      <td>0.640017</td>\n",
       "      <td>98622</td>\n",
       "      <td>kings of the city</td>\n",
       "    </tr>\n",
       "  </tbody>\n",
       "</table>\n",
       "</div>"
      ],
      "text/plain": [
       "              track_id track_title artist_name_x  play_count  \\\n",
       "15  SOHOOXT12A67ADA073   the devil   the rapture    0.640017   \n",
       "\n",
       "   index_into_fma_track_df      artist_name_y  \n",
       "15                   98622  kings of the city  "
      ]
     },
     "execution_count": 1,
     "metadata": {},
     "output_type": "execute_result"
    }
   ],
   "source": [
    "from datasetmaster import DatasetMaster\n",
    "\n",
    "a = DatasetMaster()\n",
    "a.master_df.head()"
   ]
  },
  {
   "cell_type": "code",
   "execution_count": null,
   "metadata": {},
   "outputs": [],
   "source": [
    "import pandas as pd\n",
    "temp = a.get_filenames()\n",
    "master_df = pd.DataFrame(columns=['track_id', 'track_title', 'artist_name_x', 'play_count', 'index_into_fma_track_df', 'artist_name_y'])\n",
    "print(a.matched_tracks.columns)\n",
    "for i, r in a.matched_tracks.iterrows():\n",
    "    # print(f\"{i = } and {r['index_into_fma_track_df'] = }\")\n",
    "    if i % 5 == 0:\n",
    "        master_df = pd.concat([master_df, pd.DataFrame([r])])\n",
    "        \n",
    "print(master_df.head())"
   ]
  }
 ],
 "metadata": {
  "kernelspec": {
   "display_name": "CNNenv",
   "language": "python",
   "name": "python3"
  },
  "language_info": {
   "codemirror_mode": {
    "name": "ipython",
    "version": 3
   },
   "file_extension": ".py",
   "mimetype": "text/x-python",
   "name": "python",
   "nbconvert_exporter": "python",
   "pygments_lexer": "ipython3",
   "version": "3.10.12"
  }
 },
 "nbformat": 4,
 "nbformat_minor": 2
}
