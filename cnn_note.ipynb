{
 "cells": [
  {
   "cell_type": "code",
   "execution_count": null,
   "metadata": {},
   "outputs": [],
   "source": [
    "import tensorflow as tf\n",
    "import numpy as np\n",
    "\n",
    "print(\"Num GPUs Available: \", len(tf.config.list_physical_devices('GPU')))\n",
    "gpu_devices = tf.config.experimental.list_physical_devices('GPU')\n",
    "for device in gpu_devices:\n",
    "    tf.config.experimental.set_memory_growth(device, True)"
   ]
  },
  {
   "cell_type": "code",
   "execution_count": 1,
   "metadata": {},
   "outputs": [
    {
     "name": "stderr",
     "output_type": "stream",
     "text": [
      "2024-04-28 03:11:33.360488: I tensorflow/core/platform/cpu_feature_guard.cc:210] This TensorFlow binary is optimized to use available CPU instructions in performance-critical operations.\n",
      "To enable the following instructions: AVX2 FMA, in other operations, rebuild TensorFlow with the appropriate compiler flags.\n",
      "2024-04-28 03:11:34.677743: W tensorflow/compiler/tf2tensorrt/utils/py_utils.cc:38] TF-TRT Warning: Could not find TensorRT\n",
      "/home/zeb/Documents/School/CSCI5123/CNN-Music-Recommender/CNNenv/lib/python3.10/site-packages/tqdm/auto.py:21: TqdmWarning: IProgress not found. Please update jupyter and ipywidgets. See https://ipywidgets.readthedocs.io/en/stable/user_install.html\n",
      "  from .autonotebook import tqdm as notebook_tqdm\n"
     ]
    }
   ],
   "source": [
    "from cnn import LFV_CNN\n",
    "from dataset_master import DatasetMaster"
   ]
  },
  {
   "cell_type": "code",
   "execution_count": 2,
   "metadata": {},
   "outputs": [
    {
     "name": "stdout",
     "output_type": "stream",
     "text": [
      "Found: 3675 songs between the train_triplets and the million song dataset\n",
      "Found: 2363 songs between the free music archive (full track list), train_triplets and the million song dataset\n",
      "Found: 167 songs between the free music archive (audio samples), train_triplets and the million song dataset\n"
     ]
    },
    {
     "name": "stderr",
     "output_type": "stream",
     "text": [
      "/home/zeb/Documents/School/CSCI5123/CNN-Music-Recommender/dataset_master.py:45: FutureWarning: The behavior of DataFrame concatenation with empty or all-NA entries is deprecated. In a future version, this will no longer exclude empty or all-NA columns when determining the result dtypes. To retain the old behavior, exclude the relevant entries before the concat operation.\n",
      "  master_df = pd.concat([master_df, pd.DataFrame([row])])\n"
     ]
    },
    {
     "data": {
      "text/html": [
       "<div>\n",
       "<style scoped>\n",
       "    .dataframe tbody tr th:only-of-type {\n",
       "        vertical-align: middle;\n",
       "    }\n",
       "\n",
       "    .dataframe tbody tr th {\n",
       "        vertical-align: top;\n",
       "    }\n",
       "\n",
       "    .dataframe thead th {\n",
       "        text-align: right;\n",
       "    }\n",
       "</style>\n",
       "<table border=\"1\" class=\"dataframe\">\n",
       "  <thead>\n",
       "    <tr style=\"text-align: right;\">\n",
       "      <th></th>\n",
       "      <th>track_id</th>\n",
       "      <th>track_title</th>\n",
       "      <th>artist_name_x</th>\n",
       "      <th>play_count</th>\n",
       "      <th>index_into_fma_track_df</th>\n",
       "      <th>artist_name_y</th>\n",
       "    </tr>\n",
       "  </thead>\n",
       "  <tbody>\n",
       "    <tr>\n",
       "      <th>18</th>\n",
       "      <td>SOJEVZW12A8C133988</td>\n",
       "      <td>waiting</td>\n",
       "      <td>porcupine tree</td>\n",
       "      <td>0.825174</td>\n",
       "      <td>85957</td>\n",
       "      <td>pete galub</td>\n",
       "    </tr>\n",
       "    <tr>\n",
       "      <th>21</th>\n",
       "      <td>SOJEVZW12A8C133988</td>\n",
       "      <td>waiting</td>\n",
       "      <td>porcupine tree</td>\n",
       "      <td>0.825174</td>\n",
       "      <td>116547</td>\n",
       "      <td>andrew howes</td>\n",
       "    </tr>\n",
       "    <tr>\n",
       "      <th>24</th>\n",
       "      <td>SOJEVZW12A8C133988</td>\n",
       "      <td>waiting</td>\n",
       "      <td>porcupine tree</td>\n",
       "      <td>0.825174</td>\n",
       "      <td>131904</td>\n",
       "      <td>david szesztay</td>\n",
       "    </tr>\n",
       "    <tr>\n",
       "      <th>43</th>\n",
       "      <td>SODTRPJ12A8C1377E9</td>\n",
       "      <td>oh my god</td>\n",
       "      <td>sticky fingaz</td>\n",
       "      <td>0.636287</td>\n",
       "      <td>137054</td>\n",
       "      <td>sbj</td>\n",
       "    </tr>\n",
       "    <tr>\n",
       "      <th>135</th>\n",
       "      <td>SOGDBUF12A8C140FAA</td>\n",
       "      <td>intro</td>\n",
       "      <td>40 grit</td>\n",
       "      <td>0.427447</td>\n",
       "      <td>92947</td>\n",
       "      <td>muhmood</td>\n",
       "    </tr>\n",
       "  </tbody>\n",
       "</table>\n",
       "</div>"
      ],
      "text/plain": [
       "               track_id track_title   artist_name_x  play_count  \\\n",
       "18   SOJEVZW12A8C133988     waiting  porcupine tree    0.825174   \n",
       "21   SOJEVZW12A8C133988     waiting  porcupine tree    0.825174   \n",
       "24   SOJEVZW12A8C133988     waiting  porcupine tree    0.825174   \n",
       "43   SODTRPJ12A8C1377E9   oh my god   sticky fingaz    0.636287   \n",
       "135  SOGDBUF12A8C140FAA       intro         40 grit    0.427447   \n",
       "\n",
       "    index_into_fma_track_df   artist_name_y  \n",
       "18                    85957      pete galub  \n",
       "21                   116547    andrew howes  \n",
       "24                   131904  david szesztay  \n",
       "43                   137054             sbj  \n",
       "135                   92947         muhmood  "
      ]
     },
     "execution_count": 2,
     "metadata": {},
     "output_type": "execute_result"
    }
   ],
   "source": [
    "a = DatasetMaster()\n",
    "a.master_df.head()"
   ]
  },
  {
   "cell_type": "code",
   "execution_count": null,
   "metadata": {},
   "outputs": [],
   "source": [
    "if 5 < 0.8 * 9:\n",
    "    print(\"hi\")"
   ]
  },
  {
   "cell_type": "code",
   "execution_count": null,
   "metadata": {},
   "outputs": [],
   "source": [
    "mil = a.df_million_song.to_numpy()\n",
    "lfv = a.WMF.get_item_vectors()\n",
    "master = a.master_df.to_numpy()\n",
    "\n",
    "print(f\"{mil.shape = } and {master.shape = }\")\n",
    "print(mil[:5])\n",
    "print(a.df_million_song.head())"
   ]
  },
  {
   "cell_type": "code",
   "execution_count": null,
   "metadata": {},
   "outputs": [],
   "source": [
    "import numpy as np\n",
    "\n",
    "print(a.df_million_song.tail())\n",
    "print(a.df_million_song.index[a.df_million_song['track_id']=='SOHKNRJ12A6701D1F8'])\n",
    "count = 0\n",
    "for song in a.master_df.iterrows():\n",
    "    # print(song)\n",
    "    index_into_fma_track_df = song[1]['index_into_fma_track_df']\n",
    "    train_data = a.create_mel_spectrogram(a.find_fma_song(index_into_fma_track_df), offset=np.random.randint(0,26), duration=3)\n",
    "        \n",
    "#     index_into_TT = a.df_million_song.index(a.df_million_song[song['track_id']])\n",
    "    for index, mil_song in enumerate(mil):\n",
    "        if mil_song[0] == song[1]['track_id'] and mil_song[1] == song[1]['track_title']:\n",
    "            print(f\"{index = } {mil_song}\")\n",
    "            index_into_TT = index\n",
    "            count += 1\n",
    "    # print(mil[mil[0] == song[1]['track_id']])\n",
    "    # print(song[1].iloc[0])\n",
    "    # print(a.df_million_song.index[a.df_million_song['track_id']==song[1].iloc[0]])\n",
    "                "
   ]
  },
  {
   "cell_type": "code",
   "execution_count": 5,
   "metadata": {},
   "outputs": [
    {
     "name": "stderr",
     "output_type": "stream",
     "text": [
      "/home/zeb/Documents/School/CSCI5123/CNN-Music-Recommender/CNNenv/lib/python3.10/site-packages/keras/src/layers/convolutional/base_conv.py:107: UserWarning: Do not pass an `input_shape`/`input_dim` argument to a layer. When using Sequential models, prefer using an `Input(shape)` object as the first layer in the model instead.\n",
      "  super().__init__(activity_regularizer=activity_regularizer, **kwargs)\n",
      "2024-04-28 03:12:05.791497: I tensorflow/core/common_runtime/gpu/gpu_device.cc:1928] Created device /job:localhost/replica:0/task:0/device:GPU:0 with 1814 MB memory:  -> device: 0, name: NVIDIA GeForce RTX 3060 Laptop GPU, pci bus id: 0000:01:00.0, compute capability: 8.6\n"
     ]
    }
   ],
   "source": [
    "CNN_Model = LFV_CNN()"
   ]
  },
  {
   "cell_type": "code",
   "execution_count": 3,
   "metadata": {},
   "outputs": [
    {
     "ename": "NameError",
     "evalue": "name 'np' is not defined",
     "output_type": "error",
     "traceback": [
      "\u001b[0;31m---------------------------------------------------------------------------\u001b[0m",
      "\u001b[0;31mNameError\u001b[0m                                 Traceback (most recent call last)",
      "Cell \u001b[0;32mIn[3], line 2\u001b[0m\n\u001b[1;32m      1\u001b[0m \u001b[38;5;28;01mfor\u001b[39;00m index, item \u001b[38;5;129;01min\u001b[39;00m \u001b[38;5;28menumerate\u001b[39m(a\u001b[38;5;241m.\u001b[39mCNN_Train_Data[\u001b[38;5;241m2\u001b[39m]):\n\u001b[0;32m----> 2\u001b[0m     \u001b[38;5;28mprint\u001b[39m(\u001b[38;5;124mf\u001b[39m\u001b[38;5;124m\"\u001b[39m\u001b[38;5;124mShape of item \u001b[39m\u001b[38;5;132;01m{\u001b[39;00mindex\u001b[38;5;132;01m}\u001b[39;00m\u001b[38;5;124m: \u001b[39m\u001b[38;5;132;01m{\u001b[39;00m\u001b[43mnp\u001b[49m\u001b[38;5;241m.\u001b[39marray(item)\u001b[38;5;241m.\u001b[39mshape\u001b[38;5;132;01m}\u001b[39;00m\u001b[38;5;124m\"\u001b[39m)\n\u001b[1;32m      4\u001b[0m np\u001b[38;5;241m.\u001b[39marray(a\u001b[38;5;241m.\u001b[39mCNN_Train_Data[\u001b[38;5;241m2\u001b[39m])\n",
      "\u001b[0;31mNameError\u001b[0m: name 'np' is not defined"
     ]
    }
   ],
   "source": [
    "for index, item in enumerate(a.CNN_Train_Data[2]):\n",
    "    print(f\"Shape of item {index}: {np.array(item).shape}\")\n",
    "    \n",
    "np.array(a.CNN_Train_Data[2])"
   ]
  },
  {
   "cell_type": "code",
   "execution_count": 6,
   "metadata": {},
   "outputs": [
    {
     "name": "stderr",
     "output_type": "stream",
     "text": [
      "WARNING: All log messages before absl::InitializeLog() is called are written to STDERR\n",
      "I0000 00:00:1714291969.887120   52225 service.cc:145] XLA service 0x704b68003c80 initialized for platform CUDA (this does not guarantee that XLA will be used). Devices:\n",
      "I0000 00:00:1714291969.887161   52225 service.cc:153]   StreamExecutor device (0): NVIDIA GeForce RTX 3060 Laptop GPU, Compute Capability 8.6\n",
      "2024-04-28 03:12:49.955572: I tensorflow/compiler/mlir/tensorflow/utils/dump_mlir_util.cc:268] disabling MLIR crash reproducer, set env var `MLIR_CRASH_REPRODUCER_DIRECTORY` to enable.\n",
      "2024-04-28 03:12:50.364423: I external/local_xla/xla/stream_executor/cuda/cuda_dnn.cc:465] Loaded cuDNN version 8907\n"
     ]
    },
    {
     "name": "stdout",
     "output_type": "stream",
     "text": [
      "\u001b[1m4/5\u001b[0m \u001b[32m━━━━━━━━━━━━━━━━\u001b[0m\u001b[37m━━━━\u001b[0m \u001b[1m0s\u001b[0m 21ms/step - accuracy: 0.0182 - loss: -19.3187"
     ]
    },
    {
     "name": "stderr",
     "output_type": "stream",
     "text": [
      "I0000 00:00:1714291977.089149   52225 device_compiler.h:188] Compiled cluster using XLA!  This line is logged at most once for the lifetime of the process.\n"
     ]
    },
    {
     "name": "stdout",
     "output_type": "stream",
     "text": [
      "\u001b[1m5/5\u001b[0m \u001b[32m━━━━━━━━━━━━━━━━━━━━\u001b[0m\u001b[37m\u001b[0m \u001b[1m0s\u001b[0m 682ms/step - accuracy: 0.0176 - loss: -28.9044Epoch 1: Validation Loss: -104.41465759277344\n",
      "logs = {'accuracy': 0.015037594363093376, 'loss': -67.24725341796875, 'val_accuracy': 0.0357142873108387, 'val_loss': -104.41465759277344}\n",
      "\u001b[1m5/5\u001b[0m \u001b[32m━━━━━━━━━━━━━━━━━━━━\u001b[0m\u001b[37m\u001b[0m \u001b[1m13s\u001b[0m 972ms/step - accuracy: 0.0172 - loss: -35.2949 - val_accuracy: 0.0357 - val_loss: -104.4147\n"
     ]
    },
    {
     "data": {
      "image/png": "[encoded data removed]",
      "text/plain": [
       "<Figure size 640x480 with 1 Axes>"
      ]
     },
     "metadata": {},
     "output_type": "display_data"
    }
   ],
   "source": [
    "import numpy as np\n",
    "CNN_Model.train(np.array(a.CNN_Train_Data[0]), np.array(a.CNN_Train_Data[1]), np.array(a.CNN_Train_Data[2]), np.array(a.CNN_Train_Data[3]))"
   ]
  },
  {
   "cell_type": "code",
   "execution_count": null,
   "metadata": {},
   "outputs": [],
   "source": [
    "import pandas as pd\n",
    "temp = a.get_filenames()\n",
    "master_df = pd.DataFrame(columns=['track_id', 'track_title', 'artist_name_x', 'play_count', 'index_into_fma_track_df', 'artist_name_y'])\n",
    "print(a.matched_tracks.columns)\n",
    "for i, r in a.matched_tracks.iterrows():\n",
    "    # print(f\"{i = } and {r['index_into_fma_track_df'] = }\")\n",
    "    if i % 5 == 0:\n",
    "        master_df = pd.concat([master_df, pd.DataFrame([r])])\n",
    "        \n",
    "print(master_df.head())"
   ]
  }
 ],
 "metadata": {
  "kernelspec": {
   "display_name": "CNNenv",
   "language": "python",
   "name": "python3"
  },
  "language_info": {
   "codemirror_mode": {
    "name": "ipython",
    "version": 3
   },
   "file_extension": ".py",
   "mimetype": "text/x-python",
   "name": "python",
   "nbconvert_exporter": "python",
   "pygments_lexer": "ipython3",
   "version": "3.10.12"
  }
 },
 "nbformat": 4,
 "nbformat_minor": 2
}
