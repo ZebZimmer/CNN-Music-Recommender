{
 "cells": [
  {
   "cell_type": "code",
   "execution_count": null,
   "metadata": {},
   "outputs": [],
   "source": [
    "import tensorflow as tf\n",
    "import numpy as np\n",
    "\n",
    "print(\"Num GPUs Available: \", len(tf.config.list_physical_devices('GPU')))\n",
    "gpu_devices = tf.config.experimental.list_physical_devices('GPU')\n",
    "for device in gpu_devices:\n",
    "    tf.config.experimental.set_memory_growth(device, True)"
   ]
  },
  {
   "cell_type": "code",
   "execution_count": null,
   "metadata": {},
   "outputs": [],
   "source": [
    "from cnn import LFV_CNN\n",
    "from dataset_master import DatasetMaster"
   ]
  },
  {
   "cell_type": "code",
   "execution_count": null,
   "metadata": {},
   "outputs": [],
   "source": [
    "a = DatasetMaster()\n",
    "a.master_df.head()"
   ]
  },
  {
   "cell_type": "code",
   "execution_count": null,
   "metadata": {},
   "outputs": [],
   "source": [
    "CNN_Model = LFV_CNN()"
   ]
  },
  {
   "cell_type": "code",
   "execution_count": null,
   "metadata": {},
   "outputs": [],
   "source": [
    "train_songs = np.array([create_mel_spectrogram(find_fma_song(98622), duration=3)])\n",
    "train_labels = [np.random.randint(0, 100, size=(1, 50))]\n",
    "\n",
    "validation_songs = np.array([np.random.randint(0, 100, size=(128,259))])\n",
    "validation_labels = [np.random.randint(0, 100, size=(1, 50))]"
   ]
  },
  {
   "cell_type": "code",
   "execution_count": null,
   "metadata": {},
   "outputs": [],
   "source": [
    "CNN_Model.train(train_songs, train_labels, validation_songs, validation_labels)"
   ]
  },
  {
   "cell_type": "code",
   "execution_count": null,
   "metadata": {},
   "outputs": [],
   "source": [
    "import pandas as pd\n",
    "temp = a.get_filenames()\n",
    "master_df = pd.DataFrame(columns=['track_id', 'track_title', 'artist_name_x', 'play_count', 'index_into_fma_track_df', 'artist_name_y'])\n",
    "print(a.matched_tracks.columns)\n",
    "for i, r in a.matched_tracks.iterrows():\n",
    "    # print(f\"{i = } and {r['index_into_fma_track_df'] = }\")\n",
    "    if i % 5 == 0:\n",
    "        master_df = pd.concat([master_df, pd.DataFrame([r])])\n",
    "        \n",
    "print(master_df.head())"
   ]
  }
 ],
 "metadata": {
  "kernelspec": {
   "display_name": "CNNenv",
   "language": "python",
   "name": "python3"
  },
  "language_info": {
   "codemirror_mode": {
    "name": "ipython",
    "version": 3
   },
   "file_extension": ".py",
   "mimetype": "text/x-python",
   "name": "python",
   "nbconvert_exporter": "python",
   "pygments_lexer": "ipython3",
   "version": "3.10.12"
  }
 },
 "nbformat": 4,
 "nbformat_minor": 2
}
